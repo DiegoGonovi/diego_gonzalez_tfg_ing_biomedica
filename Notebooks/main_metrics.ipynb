{
 "cells": [
  {
   "cell_type": "code",
   "id": "27d82b3cd6811454",
   "metadata": {
    "ExecuteTime": {
     "end_time": "2025-02-24T18:16:33.444112Z",
     "start_time": "2025-02-24T18:16:33.441297Z"
    }
   },
   "source": [
    "import numpy as np\n",
    "import os\n",
    "import seaborn as sns\n",
    "import ipynb\n",
    "import matplotlib.pyplot as plt\n",
    "import math"
   ],
   "outputs": [],
   "execution_count": 11
  },
  {
   "cell_type": "code",
   "id": "32bb385810d5908d",
   "metadata": {
    "ExecuteTime": {
     "end_time": "2025-02-24T18:16:35.906871Z",
     "start_time": "2025-02-24T18:16:35.849884Z"
    }
   },
   "source": [
    "%run Funciones.ipynb"
   ],
   "outputs": [],
   "execution_count": 12
  },
  {
   "cell_type": "code",
   "id": "initial_id",
   "metadata": {
    "ExecuteTime": {
     "end_time": "2025-02-24T18:16:36.300611Z",
     "start_time": "2025-02-24T18:16:36.288605Z"
    }
   },
   "source": [
    "# Lee el archivo y convierte el contenido a una lista de enteros\n",
    "test_pacientes = ['054', '049', '051', '164', '078', '092', '010', '030', '178', '068', '109', '166', '019', '163', '035', '123', '125']\n",
    "output_path_test = 'C:/Users/diego/Desktop/TFG/ProyectoTFG/VOI_predict'\n",
    "output_path_gt = 'C:/Users/diego/Desktop/TFG/ProyectoTFG/GT_VOI'\n",
    "tp = 0\n",
    "fp= 0\n",
    "fn = 0\n",
    "v_errors = []\n",
    "\n",
    "for pat in sorted(test_pacientes):\n",
    "    #if pat == '010':\n",
    "    with open(os.path.join(output_path_test, f\"{pat}_predict_gt.txt\"), \"r\") as file:\n",
    "        data_predict = list(map(int, file.read().split()))\n",
    "    \n",
    "    # Agrupa los datos del archivo en cubos de 24 valores (cada cubo tiene 8 puntos 3D)\n",
    "    cubes_predict = [data_predict[i:i+24] for i in range(0, len(data_predict), 24)]\n",
    "    \n",
    "    if len(cubes_predict) >= 1:\n",
    "        array_gt = txt_array_gt(output_path_gt, pat, 8, 3).flatten().tolist()\n",
    "        x_min_gt, y_min_gt, z_min_gt = array_gt[0], array_gt[1], array_gt[2]\n",
    "        x_max_gt, y_max_gt, z_max_gt = array_gt[21], array_gt[22], array_gt[23]\n",
    "        \n",
    "        \n",
    "        # Itera sobre cada cubo en array1 y realiza la comparación\n",
    "        for cube in cubes_predict:\n",
    "            \n",
    "            x_min_p, y_min_p, z_min_p = cube[0], cube[1], cube[2]\n",
    "            x_max_p, y_max_p, z_max_p = cube[21], cube[22], cube[23]\n",
    "            \n",
    "            contenido = (\n",
    "                x_min_p <= x_min_gt <= x_max_p and x_min_p <= x_max_gt <= x_max_p and\n",
    "                y_min_p <= y_max_gt <= y_max_p and y_min_p <= y_max_gt <= y_max_p and\n",
    "                z_min_p <= z_max_gt <= z_max_p and z_min_p <= z_max_gt <= z_max_p\n",
    "            )\n",
    "            if contenido:\n",
    "                volumen_real = volumen_info(x_min_gt, x_max_gt, y_min_gt, y_max_gt, z_min_gt, z_max_gt)\n",
    "                volumen_predict = volumen_info(x_min_p, x_max_p, y_min_p, y_max_p, z_min_p, z_max_p)\n",
    "                err_v = volumen_predict - volumen_real\n",
    "                v_errors.append(err_v)\n",
    "                tp = tp + 1\n",
    "            \n",
    "            else:\n",
    "                fp = fp + 1\n",
    "    else:\n",
    "        fn = fn + 1\n",
    "                \n",
    "       "
   ],
   "outputs": [],
   "execution_count": 13
  },
  {
   "cell_type": "code",
   "id": "3f4f7f82ba4c8444",
   "metadata": {
    "ExecuteTime": {
     "end_time": "2025-02-24T18:16:37.143203Z",
     "start_time": "2025-02-24T18:16:37.051568Z"
    }
   },
   "source": [
    "# Valores de la matriz de confusión\n",
    "TP = tp\n",
    "FP = fp\n",
    "FN = fn\n",
    "TN = 0  # No hay verdaderos negativos\n",
    "\n",
    "# Crear la matriz de confusión\n",
    "confusion_matrix = np.array([[TP, FN], [FP, TN]])\n",
    "\n",
    "# Calcular las métricas\n",
    "precision = TP / (TP + FP) if (TP + FP) > 0 else 0\n",
    "recall = TP / (TP + FN) if (TP + FN) > 0 else 0\n",
    "f1_score = 2 * (precision * recall) / (precision + recall) if (precision + recall) > 0 else 0\n",
    "\n",
    "# Imprimir métricas\n",
    "print(\"Métricas de Evaluación:\")\n",
    "print(f\"Precisión (Precision): {precision:.2f}\")\n",
    "print(f\"Sensibilidad (Recall): {recall:.2f}\")\n",
    "print(f\"F1-Score: {f1_score:.2f}\")\n",
    "print(confusion_matrix)\n",
    "\n",
    "\n",
    "# Normalizar la matriz de confusión por filas\n",
    "confusion_matrix_normalized = confusion_matrix.astype('float') / confusion_matrix.sum(axis=0, keepdims=True)\n",
    "\n",
    "# Visualización de la matriz de confusión normalizada\n",
    "plt.figure(figsize=(5, 4))\n",
    "sns.heatmap(confusion_matrix_normalized, annot=True, fmt=\".2f\", cmap=\"Blues\",\n",
    "            xticklabels=[\"Ganglio\", \"Fondo\"],\n",
    "            yticklabels=[\"Ganglio\", \"Fondo\"])\n",
    "plt.xlabel(\"Real\")\n",
    "plt.ylabel(\"Predicción\")\n",
    "plt.title(\"Matriz de Confusión Normalizada\")\n",
    "plt.show()\n"
   ],
   "outputs": [
    {
     "name": "stdout",
     "output_type": "stream",
     "text": [
      "Métricas de Evaluación:\n",
      "Precisión (Precision): 0.73\n",
      "Sensibilidad (Recall): 0.69\n",
      "F1-Score: 0.71\n",
      "[[11  5]\n",
      " [ 4  0]]\n"
     ]
    },
    {
     "data": {
      "text/plain": [
       "<Figure size 500x400 with 2 Axes>"
      ],
      "image/png": "[encoded data removed]"
     },
     "metadata": {},
     "output_type": "display_data"
    }
   ],
   "execution_count": 14
  },
  {
   "cell_type": "code",
   "id": "7ba558a4dfa08878",
   "metadata": {
    "ExecuteTime": {
     "end_time": "2025-02-24T18:16:37.918369Z",
     "start_time": "2025-02-24T18:16:37.913365Z"
    }
   },
   "source": [
    "# Calcula lista de errores e\n",
    "linear_diff_list = [(abs(v))**(1/3) for v in v_errors]\n",
    "\n",
    "# media\n",
    "mean_lin = sum(linear_diff_list) / len(linear_diff_list)\n",
    "\n",
    "# Varianza y desviación estándar\n",
    "var_lin = sum((x - mean_lin)**2 for x in linear_diff_list) / len(linear_diff_list)\n",
    "std_lin = math.sqrt(var_lin)\n",
    "\n",
    "# 3. Imprime el resultado con el formato deseado\n",
    "print(f\"Error medio lineal: {mean_lin:.2f} ± {std_lin:.2f} píxeles\")"
   ],
   "outputs": [
    {
     "name": "stdout",
     "output_type": "stream",
     "text": [
      "Error medio lineal: 16.41 ± 3.81 píxeles\n"
     ]
    }
   ],
   "execution_count": 15
  }
 ],
 "metadata": {
  "kernelspec": {
   "display_name": "Python 3 (ipykernel)",
   "language": "python",
   "name": "python3"
  },
  "language_info": {
   "codemirror_mode": {
    "name": "ipython",
    "version": 3
   },
   "file_extension": ".py",
   "mimetype": "text/x-python",
   "name": "python",
   "nbconvert_exporter": "python",
   "pygments_lexer": "ipython3",
   "version": "3.12.8"
  }
 },
 "nbformat": 4,
 "nbformat_minor": 5
}
