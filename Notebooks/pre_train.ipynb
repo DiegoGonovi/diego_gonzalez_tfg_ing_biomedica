{
 "cells": [
  {
   "metadata": {
    "ExecuteTime": {
     "end_time": "2025-02-13T13:36:02.495762Z",
     "start_time": "2025-02-13T13:36:00.341195Z"
    }
   },
   "cell_type": "code",
   "source": [
    "# Importar paquetes\n",
    "import ipynb\n",
    "import os\n",
    "from sklearn.model_selection import train_test_split\n",
    "from PIL import Image, ImageDraw\n",
    "import torch\n",
    "import shutil\n",
    "import glob\n",
    "import cv2"
   ],
   "id": "b10752f618a7328b",
   "outputs": [],
   "execution_count": 1
  },
  {
   "metadata": {
    "ExecuteTime": {
     "end_time": "2025-02-13T13:36:02.719431Z",
     "start_time": "2025-02-13T13:36:02.503741Z"
    }
   },
   "cell_type": "code",
   "source": [
    "# Importar funciones\n",
    "%run Funciones.ipynb"
   ],
   "id": "e30c62de43b93410",
   "outputs": [],
   "execution_count": 2
  },
  {
   "metadata": {
    "ExecuteTime": {
     "end_time": "2024-11-06T09:33:55.722250Z",
     "start_time": "2024-11-06T09:33:55.687813Z"
    }
   },
   "cell_type": "code",
   "source": [
    "path_ = 'C:/Users/DiegoGO/Desktop/Diego/ING. BIOMÉDICA/5º Carrera/TFG/ProyectoTFG/'\n",
    "\n",
    "# Nueva carpeta Train\n",
    "if not os.path.exists(path_ + 'Yolo_Train'):\n",
    "    os.makedirs(path_ + 'Yolo_Train')\n",
    "\n",
    "#path = '/home/dgonzalez2019/NAS/PROYECTOS_INVESTIGACION/2023-RyC-Colon/Yolo_Train/'\n",
    "path = 'C:/Users/DiegoGO/Desktop/Diego/ING. BIOMÉDICA/5º Carrera/TFG/ProyectoTFG/Yolo_train/'\n",
    "\n",
    "# Nuevas carpetas\n",
    "new_dir = ['train_sagital/', 'train_coronal/', 'train_axial/']\n",
    "# Nuevas sub-carpetas\n",
    "new_sub_dir = ['datasets', 'datasets/newmodel', 'datasets/newmodel/val', 'datasets/newmodel/train', 'datasets/newmodel/test']\n",
    "new_mod_path = ['datasets/newmodel/val/images', 'datasets/newmodel/val/labels', 'datasets/newmodel/train/images',\n",
    "                'datasets/newmodel/train/labels', 'datasets/newmodel/test/images', 'datasets/newmodel/test/labels']\n",
    "\n",
    "# Crea los directorios \n",
    "for i in new_dir:\n",
    "    if not os.path.exists(path + i):\n",
    "        os.makedirs(path + i)\n",
    "        for r in new_sub_dir:\n",
    "            if not os.path.exists(path + i + r):\n",
    "                os.makedirs(path + i + r)\n",
    "        for t in new_mod_path:\n",
    "            if not os.path.exists(path + i + t):\n",
    "                os.makedirs(path + i + t)\n",
    "\n",
    "# Borra si hay contenido\n",
    "for i in new_dir:\n",
    "    for r in new_mod_path:\n",
    "        for s in os.listdir(path + i + r):\n",
    "            os.remove(str(path + i + r + '/' + s))"
   ],
   "id": "19aaf2af36ad5959",
   "outputs": [],
   "execution_count": 10
  },
  {
   "metadata": {
    "ExecuteTime": {
     "end_time": "2025-02-06T10:08:23.991396Z",
     "start_time": "2025-02-06T10:08:23.982390Z"
    }
   },
   "cell_type": "code",
   "source": [
    "# Lista de pacientes\n",
    "path_patients = 'C:/Users/diego/Desktop/TFG/ProyectoTFG/Pacientes_Yolo'\n",
    "pat_list = os.listdir(path_patients)  # lista de los pacientes\n",
    "\n",
    "# Separamos en test, train y val\n",
    "train, val = train_test_split(pat_list, test_size=0.30, random_state=100)\n",
    "test, val = train_test_split(val, test_size=0.5, random_state=100)\n",
    "\n",
    "print('Pacientes en train:', len(train), str(train))\n",
    "print()\n",
    "print('Pacientes en val:', len(val), str(val))\n",
    "print()\n",
    "print('Pacientes en test:', len(test), str(test))"
   ],
   "id": "9a8d6b363a52834",
   "outputs": [
    {
     "name": "stdout",
     "output_type": "stream",
     "text": [
      "Pacientes en train: 77 ['029', '056', '011', '007', '020', '084', '103', '124', '119', '132', '131', '066', '133', '174', '127', '070', '134', '183', '025', '180', '117', '167', '173', '001', '026', '075', '060', '076', '064', '128', '177', '045', '100', '179', '170', '110', '027', '154', '121', '094', '168', '108', '112', '080', '083', '012', '181', '106', '155', '021', '002', '048', '008', '036', '004', '152', '017', '024', '105', '107', '023', '182', '052', '022', '113', '091', '169', '090', '165', '018', '082', '130', '153', '176', '114', '033', '016']\n",
      "\n",
      "Pacientes en val: 17 ['162', '175', '031', '071', '087', '135', '122', '032', '055', '042', '150', '034', '161', '118', '129', '111', '041']\n",
      "\n",
      "Pacientes en test: 17 ['054', '049', '051', '164', '078', '092', '010', '030', '178', '068', '109', '166', '019', '163', '035', '123', '125']\n"
     ]
    }
   ],
   "execution_count": 3
  },
  {
   "metadata": {
    "ExecuteTime": {
     "end_time": "2024-11-06T09:35:52.577967Z",
     "start_time": "2024-11-06T09:34:35.775738Z"
    }
   },
   "cell_type": "code",
   "source": [
    "for i in train:\n",
    "    # Axial Image / Labels\n",
    "    save_image_labels_train(path_input(str(i), 'Axial')[0], path_save('train_axial')[0])\n",
    "    save_image_labels_train(path_input(str(i), 'Axial')[1],path_save('train_axial')[1])\n",
    "    \n",
    "    # Coronal Image / Labels\n",
    "    save_image_labels_train(path_input(str(i), 'Coronal')[0],path_save('train_coronal')[0])\n",
    "    save_image_labels_train(path_input(str(i), 'Coronal')[1],path_save('train_coronal')[1])\n",
    "    \n",
    "    # Sagital Image / Labels\n",
    "    save_image_labels_train(path_input(str(i), 'Sagital')[0],path_save('train_sagital')[0])\n",
    "    save_image_labels_train(path_input(str(i), 'Sagital')[1],path_save('train_sagital')[1])\n",
    "    \n",
    "    print(' Paciente en train número ' + str(i) + ' terminado.')\n",
    "    \n",
    "for i in val:\n",
    "    # Axial Image / Labels\n",
    "    save_image_labels_train(path_input(str(i), 'Axial')[0], path_save('train_axial')[2])\n",
    "    save_image_labels_train(path_input(str(i), 'Axial')[1],path_save('train_axial')[3])\n",
    "    \n",
    "    # Coronal Image / Labels\n",
    "    save_image_labels_train(path_input(str(i), 'Coronal')[0],path_save('train_coronal')[2])\n",
    "    save_image_labels_train(path_input(str(i), 'Coronal')[1],path_save('train_coronal')[3])\n",
    "    \n",
    "    # Sagital Image / Label\n",
    "    save_image_labels_train(path_input(str(i), 'Sagital')[0],path_save('train_sagital')[2])\n",
    "    save_image_labels_train(path_input(str(i), 'Sagital')[1],path_save('train_sagital')[3])\n",
    "    \n",
    "    print(' Paciente en val número ' + str(i) + ' terminado.')\n",
    "\n",
    "for i in test:\n",
    "    # Axial Image / Labels\n",
    "    save_image_labels_train(path_input(str(i), 'Axial')[0], path_save('train_axial')[4])\n",
    "    save_image_labels_train(path_input(str(i), 'Axial')[1],path_save('train_axial')[5])\n",
    "    \n",
    "    # Coronal Image / Labels\n",
    "    save_image_labels_train(path_input(str(i), 'Coronal')[0],path_save('train_coronal')[4])\n",
    "    save_image_labels_train(path_input(str(i), 'Coronal')[1],path_save('train_coronal')[5])\n",
    "    \n",
    "    # Sagital Image / Label\n",
    "    save_image_labels_train(path_input(str(i), 'Sagital')[0],path_save('train_sagital')[4])\n",
    "    save_image_labels_train(path_input(str(i), 'Sagital')[1],path_save('train_sagital')[5])\n",
    "    \n",
    "    print(' Paciente en test número ' + str(i) + ' terminado.')"
   ],
   "id": "c787bc681334b73d",
   "outputs": [
    {
     "name": "stdout",
     "output_type": "stream",
     "text": [
      " Paciente en train número 029 terminado.\n",
      " Paciente en train número 056 terminado.\n",
      " Paciente en train número 011 terminado.\n",
      " Paciente en train número 007 terminado.\n",
      " Paciente en train número 020 terminado.\n",
      " Paciente en train número 084 terminado.\n",
      " Paciente en train número 103 terminado.\n",
      " Paciente en train número 124 terminado.\n",
      " Paciente en train número 119 terminado.\n",
      " Paciente en train número 132 terminado.\n",
      " Paciente en train número 131 terminado.\n",
      " Paciente en train número 066 terminado.\n",
      " Paciente en train número 133 terminado.\n",
      " Paciente en train número 174 terminado.\n",
      " Paciente en train número 127 terminado.\n",
      " Paciente en train número 070 terminado.\n",
      " Paciente en train número 134 terminado.\n",
      " Paciente en train número 183 terminado.\n",
      " Paciente en train número 025 terminado.\n",
      " Paciente en train número 180 terminado.\n",
      " Paciente en train número 117 terminado.\n",
      " Paciente en train número 167 terminado.\n",
      " Paciente en train número 173 terminado.\n",
      " Paciente en train número 001 terminado.\n",
      " Paciente en train número 026 terminado.\n",
      " Paciente en train número 075 terminado.\n",
      " Paciente en train número 060 terminado.\n",
      " Paciente en train número 076 terminado.\n",
      " Paciente en train número 064 terminado.\n",
      " Paciente en train número 128 terminado.\n",
      " Paciente en train número 177 terminado.\n",
      " Paciente en train número 045 terminado.\n",
      " Paciente en train número 100 terminado.\n",
      " Paciente en train número 179 terminado.\n",
      " Paciente en train número 170 terminado.\n",
      " Paciente en train número 110 terminado.\n",
      " Paciente en train número 027 terminado.\n",
      " Paciente en train número 154 terminado.\n",
      " Paciente en train número 121 terminado.\n",
      " Paciente en train número 094 terminado.\n",
      " Paciente en train número 168 terminado.\n",
      " Paciente en train número 108 terminado.\n",
      " Paciente en train número 112 terminado.\n",
      " Paciente en train número 080 terminado.\n",
      " Paciente en train número 083 terminado.\n",
      " Paciente en train número 012 terminado.\n",
      " Paciente en train número 181 terminado.\n",
      " Paciente en train número 106 terminado.\n",
      " Paciente en train número 155 terminado.\n",
      " Paciente en train número 021 terminado.\n",
      " Paciente en train número 002 terminado.\n",
      " Paciente en train número 048 terminado.\n",
      " Paciente en train número 008 terminado.\n",
      " Paciente en train número 036 terminado.\n",
      " Paciente en train número 004 terminado.\n",
      " Paciente en train número 152 terminado.\n",
      " Paciente en train número 017 terminado.\n",
      " Paciente en train número 024 terminado.\n",
      " Paciente en train número 105 terminado.\n",
      " Paciente en train número 107 terminado.\n",
      " Paciente en train número 023 terminado.\n",
      " Paciente en train número 182 terminado.\n",
      " Paciente en train número 052 terminado.\n",
      " Paciente en train número 022 terminado.\n",
      " Paciente en train número 113 terminado.\n",
      " Paciente en train número 091 terminado.\n",
      " Paciente en train número 169 terminado.\n",
      " Paciente en train número 090 terminado.\n",
      " Paciente en train número 165 terminado.\n",
      " Paciente en train número 018 terminado.\n",
      " Paciente en train número 082 terminado.\n",
      " Paciente en train número 130 terminado.\n",
      " Paciente en train número 153 terminado.\n",
      " Paciente en train número 176 terminado.\n",
      " Paciente en train número 114 terminado.\n",
      " Paciente en train número 033 terminado.\n",
      " Paciente en train número 016 terminado.\n",
      " Paciente en val número 162 terminado.\n",
      " Paciente en val número 175 terminado.\n",
      " Paciente en val número 031 terminado.\n",
      " Paciente en val número 071 terminado.\n",
      " Paciente en val número 087 terminado.\n",
      " Paciente en val número 135 terminado.\n",
      " Paciente en val número 122 terminado.\n",
      " Paciente en val número 032 terminado.\n",
      " Paciente en val número 055 terminado.\n",
      " Paciente en val número 042 terminado.\n",
      " Paciente en val número 150 terminado.\n",
      " Paciente en val número 034 terminado.\n",
      " Paciente en val número 161 terminado.\n",
      " Paciente en val número 118 terminado.\n",
      " Paciente en val número 129 terminado.\n",
      " Paciente en val número 111 terminado.\n",
      " Paciente en val número 041 terminado.\n",
      " Paciente en test número 054 terminado.\n",
      " Paciente en test número 049 terminado.\n",
      " Paciente en test número 051 terminado.\n",
      " Paciente en test número 164 terminado.\n",
      " Paciente en test número 078 terminado.\n",
      " Paciente en test número 092 terminado.\n",
      " Paciente en test número 010 terminado.\n",
      " Paciente en test número 030 terminado.\n",
      " Paciente en test número 178 terminado.\n",
      " Paciente en test número 068 terminado.\n",
      " Paciente en test número 109 terminado.\n",
      " Paciente en test número 166 terminado.\n",
      " Paciente en test número 019 terminado.\n",
      " Paciente en test número 163 terminado.\n",
      " Paciente en test número 035 terminado.\n",
      " Paciente en test número 123 terminado.\n",
      " Paciente en test número 125 terminado.\n"
     ]
    }
   ],
   "execution_count": 12
  },
  {
   "metadata": {
    "ExecuteTime": {
     "end_time": "2024-11-06T11:49:57.196337Z",
     "start_time": "2024-11-06T11:49:57.171729Z"
    }
   },
   "cell_type": "code",
   "source": [
    "path_ = 'C:/Users/DiegoGO/Desktop/Diego/ING. BIOMÉDICA/5º Carrera/TFG/ProyectoTFG/'\n",
    "\n",
    "# Nueva carpeta Img + GT para ver el número de etiquetas y el gran truth\n",
    "if not os.path.exists(path_ + 'YoloTrain+GT'):\n",
    "    os.makedirs(path_ + 'YoloTrain+GT')\n",
    "\n",
    "path = 'C:/Users/DiegoGO/Desktop/Diego/ING. BIOMÉDICA/5º Carrera/TFG/ProyectoTFG/YoloTrain+GT/'\n",
    "new_dir = ['sagital/', 'coronal/', 'axial/']\n",
    "\n",
    "for i in new_dir:\n",
    "    if not os.path.exists(path + i):\n",
    "        os.makedirs(path + i)"
   ],
   "id": "97c89bdd462c48ce",
   "outputs": [],
   "execution_count": 30
  },
  {
   "metadata": {
    "ExecuteTime": {
     "end_time": "2024-11-06T12:00:11.805166Z",
     "start_time": "2024-11-06T11:53:17.722541Z"
    }
   },
   "cell_type": "code",
   "source": [
    "# Visualizar GT del conjunto train\n",
    "# Si falla el cv2. png en window, uso pil\n",
    "#Axial\n",
    "print('Axial')\n",
    "\n",
    "path_t_a_i = 'C:/Users/DiegoGO/Desktop/Diego/ING. BIOMÉDICA/5º Carrera/TFG/ProyectoTFG/Yolo_Train/train_axial/datasets/newmodel/train/images/*.png'\n",
    "path_t_a_l = 'C:/Users/DiegoGO/Desktop/Diego/ING. BIOMÉDICA/5º Carrera/TFG/ProyectoTFG/Yolo_Train/train_axial/datasets/newmodel/train/labels/'\n",
    "output_path_a = 'C:/Users/DiegoGO/Desktop/Diego/ING. BIOMÉDICA/5º Carrera/TFG/ProyectoTFG/YoloTrain+GT/axial'\n",
    "img_gran_truth_pil(path_t_a_i, path_t_a_l, output_path_a) \n",
    "print('')\n",
    "\n",
    "#Coronal\n",
    "print('Coronal')\n",
    "path_t_c_i = 'C:/Users/DiegoGO/Desktop/Diego/ING. BIOMÉDICA/5º Carrera/TFG/ProyectoTFG/Yolo_Train/train_coronal/datasets/newmodel/train/images/*.png'\n",
    "path_t_c_l = 'C:/Users/DiegoGO/Desktop/Diego/ING. BIOMÉDICA/5º Carrera/TFG/ProyectoTFG/Yolo_Train/train_coronal/datasets/newmodel/train/labels/'\n",
    "output_path_c = 'C:/Users/DiegoGO/Desktop/Diego/ING. BIOMÉDICA/5º Carrera/TFG/ProyectoTFG/YoloTrain+GT/coronal'\n",
    "img_gran_truth_pil(path_t_c_i, path_t_c_l, output_path_c)\n",
    "print('')\n",
    "\n",
    "#Sagital\n",
    "print('Sagital')\n",
    "path_t_s_i = 'C:/Users/DiegoGO/Desktop/Diego/ING. BIOMÉDICA/5º Carrera/TFG/ProyectoTFG/Yolo_Train/train_sagital/datasets/newmodel/train/images/*.png'\n",
    "path_t_s_l = 'C:/Users/DiegoGO/Desktop/Diego/ING. BIOMÉDICA/5º Carrera/TFG/ProyectoTFG/Yolo_Train/train_sagital/datasets/newmodel/train/labels/'\n",
    "output_path_s = 'C:/Users/DiegoGO/Desktop/Diego/ING. BIOMÉDICA/5º Carrera/TFG/ProyectoTFG/YoloTrain+GT/sagital'\n",
    "img_gran_truth_pil(path_t_s_i, path_t_s_l, output_path_s)"
   ],
   "id": "16fda03857d6c69c",
   "outputs": [
    {
     "name": "stdout",
     "output_type": "stream",
     "text": [
      "Axial\n",
      "Imágenes totales:  778\n",
      "Imágenes etiquetadas:  778\n",
      "Imágenes sin etiquetar:  0 / Porcentaje: 0.0 %\n",
      "\n",
      "Coronal\n",
      "Imágenes totales:  753\n",
      "Imágenes etiquetadas:  753\n",
      "Imágenes sin etiquetar:  0 / Porcentaje: 0.0 %\n",
      "\n",
      "Sagital\n",
      "Imágenes totales:  769\n",
      "Imágenes etiquetadas:  769\n",
      "Imágenes sin etiquetar:  0 / Porcentaje: 0.0 %\n"
     ]
    }
   ],
   "execution_count": 35
  },
  {
   "metadata": {
    "ExecuteTime": {
     "end_time": "2025-02-13T13:41:35.744280Z",
     "start_time": "2025-02-13T13:39:29.441611Z"
    }
   },
   "cell_type": "code",
   "source": [
    "#Axial\n",
    "print('Axial')\n",
    "\n",
    "path_t_a_i = 'C:/Users/diego/Desktop/prueba/resultGT-axial/*.jpg'\n",
    "path_t_a_l = 'C:/Users/diego/Desktop/TFG/ProyectoTFG/Yolo_Train/train_axial/datasets/newmodel/train/labels/'\n",
    "output_path_a = 'C:/Users/diego/Desktop/prueba/Axial'\n",
    "img_gran_truth_pil(path_t_a_i, path_t_a_l, output_path_a)\n",
    "print('')\n",
    "\n",
    "#Coronal\n",
    "print('Coronal')\n",
    "path_t_c_i = 'C:/Users/diego/Desktop/prueba/resultGT-coronal/*.jpg'\n",
    "path_t_c_l = 'C:/Users/diego/Desktop/TFG/ProyectoTFG/Yolo_Train/train_coronal/datasets/newmodel/train/labels/'\n",
    "output_path_c = 'C:/Users/diego/Desktop/prueba/Coronal'\n",
    "img_gran_truth_pil(path_t_c_i, path_t_c_l, output_path_c)\n",
    "print('')\n",
    "\n",
    "#Sagital\n",
    "print('Sagital')\n",
    "path_t_s_i = 'C:/Users/diego/Desktop/prueba/resultGT-sagital/*.jpg'\n",
    "path_t_s_l = 'C:/Users/diego/Desktop/TFG/ProyectoTFG/Yolo_Train/train_sagital/datasets/newmodel/train/labels/'\n",
    "output_path_s = 'C:/Users/diego/Desktop/prueba/Sagital'\n",
    "img_gran_truth_pil(path_t_s_i, path_t_s_l, output_path_s)"
   ],
   "id": "838c439a357481cf",
   "outputs": [
    {
     "name": "stdout",
     "output_type": "stream",
     "text": [
      "Axial\n",
      "Imágenes totales:  778\n",
      "Imágenes etiquetadas:  778\n",
      "Imágenes sin etiquetar:  0 / Porcentaje: 0.0 %\n",
      "\n",
      "Coronal\n",
      "Imágenes totales:  753\n",
      "Imágenes etiquetadas:  753\n",
      "Imágenes sin etiquetar:  0 / Porcentaje: 0.0 %\n",
      "\n",
      "Sagital\n",
      "Imágenes totales:  769\n",
      "Imágenes etiquetadas:  769\n",
      "Imágenes sin etiquetar:  0 / Porcentaje: 0.0 %\n"
     ]
    }
   ],
   "execution_count": 4
  },
  {
   "metadata": {},
   "cell_type": "code",
   "outputs": [],
   "execution_count": null,
   "source": "",
   "id": "2d899d3b29caa105"
  }
 ],
 "metadata": {
  "kernelspec": {
   "display_name": "Python 3",
   "language": "python",
   "name": "python3"
  },
  "language_info": {
   "codemirror_mode": {
    "name": "ipython",
    "version": 2
   },
   "file_extension": ".py",
   "mimetype": "text/x-python",
   "name": "python",
   "nbconvert_exporter": "python",
   "pygments_lexer": "ipython2",
   "version": "2.7.6"
  }
 },
 "nbformat": 4,
 "nbformat_minor": 5
}
